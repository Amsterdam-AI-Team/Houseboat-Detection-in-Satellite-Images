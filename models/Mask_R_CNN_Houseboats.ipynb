{
  "nbformat": 4,
  "nbformat_minor": 0,
  "metadata": {
    "accelerator": "GPU",
    "colab": {
      "name": "Mask R-CNN Houseboats.ipynb",
      "provenance": [],
      "collapsed_sections": [],
      "toc_visible": true,
      "machine_shape": "hm"
    },
    "kernelspec": {
      "display_name": "Python 3",
      "name": "python3"
    }
  },
  "cells": [
    {
      "cell_type": "code",
      "metadata": {
        "id": "6i_eC-b1E83a"
      },
      "source": [
        "!nvidia-smi"
      ],
      "execution_count": null,
      "outputs": []
    },
    {
      "cell_type": "code",
      "metadata": {
        "id": "-y74ze6xFBnj"
      },
      "source": [
        "from google.colab import drive\n",
        "# Mount the Google Drive\n",
        "drive.mount('/content/drive', force_remount=True)\n",
        "import os\n",
        "# Now, cd to a folder from my Google Drive\n",
        "os.chdir(\"/content/drive/My Drive/colabfolder/\")"
      ],
      "execution_count": null,
      "outputs": []
    },
    {
      "cell_type": "code",
      "metadata": {
        "id": "w3bfbcl0FbSo"
      },
      "source": [
        "!pip install -U torch==1.6.0+cu101 torchvision==0.7.0+cu101 -f https://download.pytorch.org/whl/torch_stable.html \n",
        "!pip install cython pyyaml==5.1\n",
        "!pip install -U 'git+https://github.com/cocodataset/cocoapi.git#subdirectory=PythonAPI'\n",
        "\n",
        "!git clone https://github.com/facebookresearch/detectron2 detectron2\n",
        "!pip install -e detectron2"
      ],
      "execution_count": null,
      "outputs": []
    },
    {
      "cell_type": "code",
      "metadata": {
        "id": "VtkQRHFeFuIP"
      },
      "source": [
        "# Some basic setup\n",
        "# Import some common libraries\n",
        "import numpy as np\n",
        "import cv2\n",
        "import zipfile\n",
        "import pandas as pd\n",
        "import os\n",
        "from shapely.geometry import Polygon\n",
        "from skimage import measure\n",
        "\n",
        "# Setup detectron2 logger\n",
        "import detectron2\n",
        "from detectron2.utils.logger import setup_logger\n",
        "setup_logger()\n",
        "# Import some common detectron2 utilities\n",
        "from detectron2.data import MetadataCatalog, DatasetCatalog\n",
        "from detectron2.config import get_cfg\n",
        "from detectron2.engine import DefaultPredictor"
      ],
      "execution_count": 3,
      "outputs": []
    },
    {
      "cell_type": "code",
      "metadata": {
        "id": "zrpeILQhF3X0"
      },
      "source": [
        "def mask_to_simplified_polygon(mask, filename):\n",
        "    \"\"\"\n",
        "    Find contours (boundary lines) around the mask and\n",
        "    convert it to MS COCO polygon representation.\n",
        "    \"\"\"\n",
        "    contours = measure.find_contours(mask, 0.5, positive_orientation='low')\n",
        "\n",
        "    segmentations = []\n",
        "    for contour in contours:\n",
        "        if len(contour) < 3:\n",
        "            # Polygons must have at least three points\n",
        "            continue\n",
        "\n",
        "        # Flip from (row, col) representation to (x, y)\n",
        "        # and subtract the padding pixel\n",
        "        for i in range(len(contour)):\n",
        "            row, col = contour[i]\n",
        "            contour[i] = (col - 1, row - 1)\n",
        "\n",
        "        # Make a polygon and simplify it\n",
        "        poly = Polygon(contour)\n",
        "        poly = poly.simplify(1.0, preserve_topology=False)\n",
        "\n",
        "        if poly.is_empty:\n",
        "            # Go to next iteration, dont save empty values in list\n",
        "            continue\n",
        "          \n",
        "        if poly.geom_type == \"MultiPolygon\":\n",
        "            # Go to next iteration\n",
        "            print(\"{} contains a MultiPolygon, manualy verify this image.\".format(filename))\n",
        "            continue            \n",
        "\n",
        "        segmentation = np.array(poly.exterior.coords).ravel().tolist()\n",
        "        segmentations.append(segmentation)\n",
        "\n",
        "    return segmentations"
      ],
      "execution_count": 4,
      "outputs": []
    },
    {
      "cell_type": "markdown",
      "metadata": {
        "id": "umr-mAIRQ9fa"
      },
      "source": [
        "## Instance Segmentation on pretrained model.\n",
        "An example script on how to iterate over the images in a zip file and get predictions from Mask R-CNN."
      ]
    },
    {
      "cell_type": "code",
      "metadata": {
        "id": "r9z1RBgrT7yJ"
      },
      "source": [
        "cfg = get_cfg()\n",
        "cfg.merge_from_file(\n",
        "    \"detectron2/configs/COCO-InstanceSegmentation/mask_rcnn_R_50_FPN_3x.yaml\"\n",
        ")\n",
        "cfg.OUTPUT_DIR = \"output\"\n",
        "cfg.MODEL.WEIGHTS = os.path.join(\"my_models\", \"model_final.pth\")\n",
        "cfg.MODEL.ROI_HEADS.NUM_CLASSES = 1 # Houseboat\n",
        "cfg.MODEL.ROI_HEADS.SCORE_THRESH_TEST = 0.95\n",
        "\n",
        "predictor = DefaultPredictor(cfg)\n",
        "\n",
        "zip_file = zipfile.ZipFile(\"lufo_water_only.zip\")\n",
        "\n",
        "rows_list = []\n",
        "for name in zip_file.namelist():\n",
        "    if name.endswith(\".jpeg\"):\n",
        "        filename = os.path.splitext(name)[0]\n",
        "\n",
        "        # Open the images in the zip\n",
        "        pic = zip_file.read(name)\n",
        "        im = cv2.imdecode(np.frombuffer(pic, np.uint8), 1)\n",
        "\n",
        "        # Use defaultPredicter\n",
        "        outputs = predictor(im)\n",
        "\n",
        "        all_instances = outputs[\"instances\"].to(\"cpu\")\n",
        "\n",
        "        if all_instances.has(\"pred_masks\"):\n",
        "            masks = all_instances.pred_masks\n",
        "\n",
        "            for instance in masks:\n",
        "                # Convert the binary mask to a polygon (list of points of the polygon)\n",
        "                polygon = mask_to_simplified_polygon(instance, filename)\n",
        "\n",
        "                if polygon:\n",
        "                    # Replace negative values with 0\n",
        "                    polygon_non_negative = [0 if i < 0 else i for i in polygon[0]]\n",
        "\n",
        "                    # Convert list into list of tuples of every two elements\n",
        "                    polygon_tuple = list(zip(polygon_non_negative[::2], polygon_non_negative[1::2]))\n",
        "\n",
        "                    new_data = {\"tile_x_y\" : filename, \"mask\" : polygon_tuple}\n",
        "                    rows_list.append(new_data)\n",
        "\n",
        "# Save this file\n",
        "df_output = pd.DataFrame(rows_list)\n",
        "compression_opts = dict(method=\"zip\", archive_name=\"mask_r_cnn_predicted_houseboats.csv\")\n",
        "df_output.to_csv(\"mask_r_cnn_predicted_houseboats.zip\", index=False, compression=compression_opts)"
      ],
      "execution_count": null,
      "outputs": []
    }
  ]
}