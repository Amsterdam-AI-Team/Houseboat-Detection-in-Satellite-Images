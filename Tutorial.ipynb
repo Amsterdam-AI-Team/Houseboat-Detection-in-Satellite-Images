{
 "cells": [
  {
   "cell_type": "markdown",
   "metadata": {},
   "source": [
    "# Updating cadastral maps using aerial images and deep learning\n",
    "\n",
    "This notebook shows a solution for segmentating houseboats from aerial images and save the acquired polygons to a geoJSON format. The training step of Mask R-CNN is not part of this notebook.\n",
    "\n",
    "## Save the LUFO and TOPO image tiles locally\n",
    "Download the aerial and topographic image tiles from the City of Amsterdam objectstore or generate the tiles using [WMTS](https://map.data.amsterdam.nl/service?REQUEST=GetCapabilities&SERVICE=WMTS) with the same tiling scheme. Place the tiles locally in the `datasets/` folder. Cached topographic images can be found at the [City of Amsterdam server](https://t1.data.amsterdam.nl/topo_rd/13/)."
   ]
  },
  {
   "cell_type": "code",
   "execution_count": null,
   "metadata": {},
   "outputs": [],
   "source": [
    "# Example data files are available in these folders to run the notebook.\n",
    "in_folder_lufo = \"datasets/2020/lufo/13/\"\n",
    "in_folder_topo = \"datasets/2020/topo/13/\"\n",
    "out_folder_lufo = \"datasets/2020/lufo_water_only/13/\""
   ]
  },
  {
   "cell_type": "markdown",
   "metadata": {},
   "source": [
    "## Overlay LUFO images with a water only mask\n",
    "To simplify the detection of houseboats, we overlay the satellite images with a non-water mask image. Using the mask, we avoid the detection of houses on land. We save the result to the `out_folder`."
   ]
  },
  {
   "cell_type": "code",
   "execution_count": null,
   "metadata": {},
   "outputs": [],
   "source": [
    "from src.mask_utils import create_water_only_tiles\n",
    "\n",
    "create_water_only_tiles(in_folder_lufo, in_folder_topo, out_folder_lufo)"
   ]
  },
  {
   "cell_type": "markdown",
   "metadata": {},
   "source": [
    "## Instance segmentation of houseboats in aerial images\n",
    "A mask region-based convolutional neural network [Mask R-CNN](https://arxiv.org/abs/1703.06870) is used for the instance segmentation from aerial images. The instance segmentation algorithm produces precise masks that can be converted to polygons outlining the houseboats.\n",
    "\n",
    "**NOTE**: Running Mask R-CNN on a non-GPU machine will be VERY slow. Therefore, I suggest to perform the instance segmentation on for example [Google Colab](https://colab.research.google.com/). Perform the following steps to run instance segmentation on Google Colab:\n",
    "- Copy the [Mask R-CNN test notebook](models/Mask_R_CNN_Houseboats.ipynb) to a Google Drive folder. \n",
    "- Compress the `out_folder` (overlayed LUFO images) to a zip file and copy it to the Google Drive folder. We use a compressed folder because Google Drive sometimes has issues with file indexing.\n",
    "- Download the [pretrained model](TODO) and copy it to the Google Drive folder.\n",
    "- Open the notebook in Google Colab and enable GPU (Runtime / Change runtime type)."
   ]
  },
  {
   "cell_type": "code",
   "execution_count": null,
   "metadata": {},
   "outputs": [],
   "source": [
    "# Compress the overlayed LUFO images to a zip file.\n",
    "!(cd datasets/2020/lufo_water_only/13/; zip -r \"../../lufo_water_only.zip\" . -x \".*\" -x \"__MACOSX\")"
   ]
  },
  {
   "cell_type": "code",
   "execution_count": null,
   "metadata": {},
   "outputs": [],
   "source": [
    "# Copy the output of Mask R-CNN to a local folder.\n",
    "out_folder_mask_r_cnn = \"output/mask_r_cnn_predicted_houseboats.csv\""
   ]
  },
  {
   "cell_type": "markdown",
   "metadata": {},
   "source": [
    "## Instance segmentation to geoJSON\n",
    "The trained Mask R-CNN model determined pixel level segmentation masks for the houseboats in the aerial images and these results are saved to a *.csv file. The next cell performs the following tasks:\n",
    "- A minimum bounding rectangle algorithm is used to calculate the width and length of a polygon. The width and length of the rectangle in pixels are converted to Rijksdriehoek coordinates. \n",
    "- The center of a polygon is calculated in pixels and converted to Rijksdriehoek coordinates.\n",
    "- The *.csv format is converted to a geoJSON format."
   ]
  },
  {
   "cell_type": "code",
   "execution_count": null,
   "metadata": {},
   "outputs": [],
   "source": [
    "from src.geospatial_utils import segmentations_to_coordinates\n",
    "\n",
    "out_file = \"output/houseboat_polygon_data.csv\"\n",
    "segmentations_to_coordinates(out_folder_mask_r_cnn, out_file)"
   ]
  },
  {
   "cell_type": "markdown",
   "metadata": {},
   "source": [
    "## [Optional] Draw binary polygon masks of the segmentations\n",
    "Draw binary masks to visually validate the quality of the Mask R-CNN predictions. This part can also be used to generate a labelled dataset. See the repo's README for more information."
   ]
  },
  {
   "cell_type": "code",
   "execution_count": null,
   "metadata": {},
   "outputs": [],
   "source": [
    "from src.visualize import draw_binary_mask\n",
    "\n",
    "out_folder_masks = \"output/masks\"\n",
    "draw_binary_mask(out_folder_mask_r_cnn, out_folder_masks)"
   ]
  },
  {
   "cell_type": "code",
   "execution_count": null,
   "metadata": {},
   "outputs": [],
   "source": []
  }
 ],
 "metadata": {
  "kernelspec": {
   "display_name": "Python 3",
   "language": "python",
   "name": "python3"
  },
  "language_info": {
   "codemirror_mode": {
    "name": "ipython",
    "version": 3
   },
   "file_extension": ".py",
   "mimetype": "text/x-python",
   "name": "python",
   "nbconvert_exporter": "python",
   "pygments_lexer": "ipython3",
   "version": "3.8.5"
  }
 },
 "nbformat": 4,
 "nbformat_minor": 4
}
